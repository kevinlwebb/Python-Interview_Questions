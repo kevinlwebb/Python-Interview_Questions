{
 "cells": [
  {
   "cell_type": "markdown",
   "metadata": {},
   "source": [
    "Triple Step\n",
    "\n",
    "A child is running up a staircase with n steps and can hop either 1 step, 2 steps, or 3 steps at a time. \n",
    "Implement a method to count how many possible ways the child can run up the stairs.\n"
   ]
  },
  {
   "cell_type": "code",
   "execution_count": 5,
   "metadata": {},
   "outputs": [],
   "source": [
    "def tripleStepRecursive(n):\n",
    "    if n == 1:\n",
    "        return 1\n",
    "    if n == 0:\n",
    "        return 1\n",
    "    if n < 0:\n",
    "        return 0\n",
    "    \n",
    "    return tripleStep(n-1) + tripleStep(n-2) + tripleStep(n-3)\n",
    "\n",
    "def tripleStep(x):\n",
    "    cache = [-1] * (x + 1)\n",
    "    \n",
    "    if x < 0:\n",
    "        return 0\n",
    "    cache[0] = 1\n",
    "    cache[1] = 1\n",
    "    cache[2] = cache[1] + cache[0]\n",
    "    if x > 2:\n",
    "        for i in range(3, x + 1):\n",
    "            cache[i] = cache[i - 1] + cache[i - 2] + cache[i - 3]\n",
    "            \n",
    "    return cache[x]"
   ]
  },
  {
   "cell_type": "markdown",
   "metadata": {},
   "source": [
    "Robot in a Grid\n",
    "\n",
    "Imagine a robot sitting on the upper left corner of grid with r rows and c columns.\n",
    "The robot can only move in two directions, right and down,\n",
    "but certain cells are \"off limits\" such that the robot canot step on them.\n",
    "Design an algorithm to find a path for the robot from the top left to the bottom right.\n"
   ]
  },
  {
   "cell_type": "code",
   "execution_count": null,
   "metadata": {},
   "outputs": [],
   "source": []
  },
  {
   "cell_type": "markdown",
   "metadata": {},
   "source": [
    "Magic Index\n",
    "\n",
    "A magic index in  an array A[0 .. n-1] is defined to be an index such that\n",
    "A[i] = i.\n",
    "Given a sorted array of distinct integers, write a method to find a magic index,\n",
    "if one exists, in array A."
   ]
  },
  {
   "cell_type": "code",
   "execution_count": 31,
   "metadata": {},
   "outputs": [],
   "source": [
    "def magicIndex(ar):\n",
    "    \n",
    "    def search(arr,start,end):\n",
    "        if start > end:\n",
    "            return -1\n",
    "        \n",
    "        #mid = (end - start) // 2\n",
    "        mid = (end + start) // 2\n",
    "        \n",
    "        if ar[mid] == mid:\n",
    "            return mid\n",
    "        \n",
    "        elif ar[mid] < mid:\n",
    "            return search(arr,mid+1,end)\n",
    "        \n",
    "        elif ar[mid] > mid:\n",
    "            return search(arr,start,mid-1)\n",
    "            \n",
    "    return search(ar, 0, len(ar) - 1)\n",
    "            "
   ]
  },
  {
   "cell_type": "markdown",
   "metadata": {},
   "source": [
    "Power Set\n",
    "\n",
    "Write a method to return all subsets of a set"
   ]
  },
  {
   "cell_type": "code",
   "execution_count": null,
   "metadata": {},
   "outputs": [],
   "source": []
  },
  {
   "cell_type": "markdown",
   "metadata": {},
   "source": [
    "Recursive Multiply\n",
    "\n",
    "Write a recursive function to multiply two positive integers without using the * operator.\n",
    "You can use addition, subtraction, and bit shifting, but you should minimize the number of those operations."
   ]
  },
  {
   "cell_type": "code",
   "execution_count": 38,
   "metadata": {},
   "outputs": [],
   "source": [
    "def nonRecursiveMultiply(num1,num2):\n",
    "    out = 0\n",
    "    for i in range(num1):\n",
    "        out += num2\n",
    "    return out"
   ]
  },
  {
   "cell_type": "code",
   "execution_count": null,
   "metadata": {},
   "outputs": [],
   "source": []
  }
 ],
 "metadata": {
  "kernelspec": {
   "display_name": "Python 3",
   "language": "python",
   "name": "python3"
  },
  "language_info": {
   "codemirror_mode": {
    "name": "ipython",
    "version": 3
   },
   "file_extension": ".py",
   "mimetype": "text/x-python",
   "name": "python",
   "nbconvert_exporter": "python",
   "pygments_lexer": "ipython3",
   "version": "3.7.4"
  }
 },
 "nbformat": 4,
 "nbformat_minor": 2
}
