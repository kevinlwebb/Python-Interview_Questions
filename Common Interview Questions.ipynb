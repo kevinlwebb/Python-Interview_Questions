{
 "cells": [
  {
   "cell_type": "markdown",
   "metadata": {},
   "source": [
    "# 2 Sum (Array)\n",
    "\n",
    "Given a sum and an array, find two pairs that add up to the given sum.\n",
    "\n",
    "For example, if the array is [3, 5, 2, -4, 8, 11] and the sum is 7, your program should return [[11, -4], [2, 5]] because 11 + -4 = 7 and 2 + 5 = 7."
   ]
  },
  {
   "cell_type": "code",
   "execution_count": 1,
   "metadata": {},
   "outputs": [
    {
     "data": {
      "text/plain": [
       "[{2, 5}, {-4, 11}]"
      ]
     },
     "execution_count": 1,
     "metadata": {},
     "output_type": "execute_result"
    }
   ],
   "source": [
    "def naiveSolution(ar,sm):\n",
    "    out = []\n",
    "    for number1 in ar:\n",
    "        temp = [x for x in ar if x!=number1]\n",
    "        for number2 in temp:\n",
    "            if number1 + number2 == sm:\n",
    "                if {number1,number2} not in out:\n",
    "                    out.append({number1,number2})\n",
    "                    \n",
    "    return out\n",
    "\n",
    "naiveSolution([3, 5, 2, -4, 8, 11] ,7)"
   ]
  },
  {
   "cell_type": "code",
   "execution_count": 2,
   "metadata": {},
   "outputs": [
    {
     "data": {
      "text/plain": [
       "[{2, 5}, {-4, 11}]"
      ]
     },
     "execution_count": 2,
     "metadata": {},
     "output_type": "execute_result"
    }
   ],
   "source": [
    "def dpSolution(ar,sm):\n",
    "    tried = {}\n",
    "    out = []\n",
    "    for number in ar:\n",
    "        if sm - number not in tried:\n",
    "            tried[number] = number\n",
    "        else:\n",
    "            number2 = sm - number\n",
    "            if {number,number2} not in out:\n",
    "                    out.append({number,number2})\n",
    "    return out\n",
    "            \n",
    "dpSolution([3, 5, 2, -4, 8, 11] ,7)"
   ]
  },
  {
   "cell_type": "markdown",
   "metadata": {},
   "source": [
    "# Longest Increasing Subarray (Dynamic Programming)\n",
    "\n",
    "Topics: “sliding window”, dynamic programming, time/space complexity\n",
    "    \n",
    "Given an array containing n numbers. The problem is to find the length of the longest contiguous subarray such that every element in the subarray is strictly greater than its previous element in the same subarray.\n",
    "\n",
    "Examples:\n",
    "\n",
    "Input : arr[] = {5, 6, 3, 5, 7, 8, 9, 1, 2}\n",
    "Output : 5\n",
    "The subarray is {3, 5, 7, 8, 9}\n",
    "\n",
    "Input : arr[] = {12, 13, 1, 5, 4, 7, 8, 10, 10, 11}\n",
    "Output : 4\n",
    "The subarray is {4, 7, 8, 10}"
   ]
  },
  {
   "cell_type": "code",
   "execution_count": 66,
   "metadata": {},
   "outputs": [
    {
     "name": "stdout",
     "output_type": "stream",
     "text": [
      "Length =  5\n"
     ]
    }
   ],
   "source": [
    "def dpSolution(ar):  \n",
    "    n = len(ar)\n",
    "    \n",
    "    overall_max = 1 \n",
    "    current_max = 1 \n",
    "       \n",
    "    for i in range(1, n) : \n",
    "\n",
    "        if (arr[i] > arr[i-1]) : \n",
    "            current_max =current_max + 1 \n",
    "        else : \n",
    "            if (overall_max < current_max): \n",
    "                overall_max = current_max  \n",
    "  \n",
    "            current_max = 1   \n",
    "          \n",
    "    if (overall_max < current_max) : \n",
    "        overall_max = current_max \n",
    "       \n",
    "    return overall_max \n",
    "\n",
    "  \n",
    "arr = [5, 6, 3, 5, 7, 8, 9, 1, 2] \n",
    "n = len(arr) \n",
    "print(\"Length = \", dpSolution(arr)) "
   ]
  },
  {
   "cell_type": "markdown",
   "metadata": {},
   "source": [
    "# Climbing Stairs (Dynamic Programming)\n",
    "\n",
    "You are climbing a stair case. It takes n steps to reach to the top.\n",
    "\n",
    "Each time you can either climb 1 or 2 steps. In how many distinct ways can you climb to the top?"
   ]
  },
  {
   "cell_type": "code",
   "execution_count": 33,
   "metadata": {},
   "outputs": [
    {
     "name": "stdout",
     "output_type": "stream",
     "text": [
      "Number of ways = 8\n"
     ]
    }
   ],
   "source": [
    "def climbingStairs(n):\n",
    "    if n == 0:\n",
    "        return 1\n",
    "    elif n < 0:\n",
    "        return 0\n",
    "    return climbingStairs(n-1) + climbingStairs(n-2)\n",
    "\n",
    "s = 5\n",
    "print(\"Number of ways =\",climbingStairs(s) )"
   ]
  },
  {
   "cell_type": "code",
   "execution_count": 34,
   "metadata": {},
   "outputs": [
    {
     "name": "stdout",
     "output_type": "stream",
     "text": [
      "Number of ways = 8\n"
     ]
    }
   ],
   "source": [
    "def climbingStairs(n):\n",
    "    cache = [-1] * (n+1)\n",
    "    cache[0] = 1\n",
    "    cache[1] = 1\n",
    "    for i in range(2, n+1):\n",
    "        cache[i] = cache[i - 1] + cache[i - 2]\n",
    "    return cache[n]\n",
    "\n",
    "s = 5\n",
    "print(\"Number of ways =\",climbingStairs(s) )"
   ]
  },
  {
   "cell_type": "code",
   "execution_count": 35,
   "metadata": {},
   "outputs": [
    {
     "name": "stdout",
     "output_type": "stream",
     "text": [
      "Number of ways = 8\n"
     ]
    }
   ],
   "source": [
    "def climbingStairs(s): \n",
    "    \n",
    "    def helper(n): \n",
    "        res = [0 for x in range(n)]\n",
    "        res[0],res[1] = 1,1\n",
    "\n",
    "        for i in range(2,n): \n",
    "            res[i] = res[i-1] + res[i-2]\n",
    "        return res[n-1] \n",
    "    \n",
    "    return helper(s+1) \n",
    "      \n",
    "s = 5\n",
    "print(\"Number of ways =\",climbingStairs(s) )"
   ]
  },
  {
   "cell_type": "markdown",
   "metadata": {},
   "source": [
    "# Coin Change (Dynamic Programming)\n",
    "Given a value N, if we want to make change for N cents, and we have infinite supply of each of S = { S1, S2, .. , Sm} valued coins, how many ways can we make the change? The order of coins doesn’t matter.\n",
    "\n",
    "For example, for N = 4 and S = {1,2,3}, there are four solutions: {1,1,1,1},{1,1,2},{2,2},{1,3}. So output should be 4. For N = 10 and S = {2, 5, 3, 6}, there are five solutions: {2,2,2,2,2}, {2,2,3,3}, {2,2,6}, {2,3,5} and {5,5}. So the output should be 5."
   ]
  },
  {
   "cell_type": "code",
   "execution_count": 43,
   "metadata": {},
   "outputs": [
    {
     "name": "stdout",
     "output_type": "stream",
     "text": [
      "4\n",
      "5\n"
     ]
    }
   ],
   "source": [
    "def coinChange(n,s):\n",
    "    cache = [0] * (n+1)\n",
    "    cache[0] = 1\n",
    "    for j in s:\n",
    "        for i in range(j, n+1): \n",
    "            cache[i] = cache[i] + cache[i - j]\n",
    "    return cache[n]\n",
    "\n",
    "x = coinChange(4,[1,2,3])\n",
    "print(x)\n",
    "\n",
    "x = coinChange(10,[2, 5, 3, 6])\n",
    "print(x)"
   ]
  },
  {
   "cell_type": "code",
   "execution_count": 45,
   "metadata": {},
   "outputs": [
    {
     "name": "stdout",
     "output_type": "stream",
     "text": [
      "4\n",
      "5\n"
     ]
    }
   ],
   "source": [
    "def coinChange(S, m, n): \n",
    "    table = [0 for k in range(n+1)] \n",
    "    table[0] = 1\n",
    "  \n",
    "    for i in range(0,m): \n",
    "        for j in range(S[i],n+1): \n",
    "            table[j] += table[j-S[i]] \n",
    "  \n",
    "    return table[n] \n",
    "  \n",
    "\n",
    "arr = [1, 2, 3] \n",
    "m = len(arr) \n",
    "n = 4\n",
    "x = coinChange(arr, m, n) \n",
    "print(x) \n",
    "\n",
    "arr = [2, 5, 3, 6] \n",
    "m = len(arr) \n",
    "n = 10\n",
    "x = coinChange(arr, m, n) \n",
    "print(x)"
   ]
  },
  {
   "cell_type": "markdown",
   "metadata": {},
   "source": [
    "# Clone Graph (Graph)\n",
    "\n",
    "Clone an undirected graph. Each node in the graph contains a label and a list of its neighbors."
   ]
  },
  {
   "cell_type": "code",
   "execution_count": 51,
   "metadata": {},
   "outputs": [
    {
     "name": "stdout",
     "output_type": "stream",
     "text": [
      "2\n",
      "1\n",
      "3\n",
      "2\n"
     ]
    }
   ],
   "source": [
    "class UndirectedGraphNode(object):\n",
    "    def __init__(self, x,n=[]):\n",
    "        self.label = x\n",
    "        self.neighbors = n\n",
    "\n",
    "# BFS\n",
    "class Solution(object):\n",
    "    # @param node, a undirected graph node\n",
    "    # @return a undirected graph node\n",
    "    def cloneGraph(self, node):\n",
    "        if node is None:\n",
    "            return None\n",
    "        cloned_node = UndirectedGraphNode(node.label)\n",
    "        cloned, queue = {node:cloned_node}, [node]\n",
    "\n",
    "        while queue:\n",
    "            current = queue.pop()\n",
    "            for neighbor in current.neighbors:\n",
    "                if neighbor not in cloned:\n",
    "                    queue.append(neighbor)\n",
    "                    cloned_neighbor = UndirectedGraphNode(neighbor.label)\n",
    "                    cloned[neighbor] = cloned_neighbor\n",
    "                cloned[current].neighbors.append(cloned[neighbor])\n",
    "        return cloned[node]\n",
    "\n",
    "node1 = UndirectedGraphNode(1)\n",
    "node2 = UndirectedGraphNode(2)\n",
    "node3 = UndirectedGraphNode(3,[node2])\n",
    "node1.neighbors = [node2]\n",
    "node2.neighbors = [node1,node3]\n",
    "\n",
    "sol = Solution()\n",
    "for item in sol.cloneGraph(node1).neighbors:\n",
    "    print(item.label)"
   ]
  },
  {
   "cell_type": "markdown",
   "metadata": {},
   "source": [
    "# Course Schedule (Graph)\n",
    "\n",
    "\n",
    "There are a total of n courses you have to take, labeled from 0 to n-1.\n",
    "\n",
    "Some courses may have prerequisites, for example to take course 0 you have to first take course 1, which is expressed as a pair: [0,1]\n",
    "\n",
    "Given the total number of courses and a list of prerequisite pairs, is it possible for you to finish all courses?\n",
    "\n",
    "Example 1:\n",
    "\n",
    "Input: 2, [[1,0]] \n",
    "<br>Output: true\n",
    "<br>Explanation: There are a total of 2 courses to take. \n",
    "             To take course 1 you should have finished course 0. So it is possible.\n",
    "\n",
    "Example 2:\n",
    "\n",
    "Input: 2, [[1,0],[0,1]]\n",
    "<br>Output: false\n",
    "<br>Explanation: There are a total of 2 courses to take. \n",
    "             To take course 1 you should have finished course 0, and to take course 0 you should\n",
    "             also have finished course 1. So it is impossible."
   ]
  },
  {
   "cell_type": "code",
   "execution_count": 60,
   "metadata": {},
   "outputs": [
    {
     "name": "stdout",
     "output_type": "stream",
     "text": [
      "True\n",
      "False\n"
     ]
    }
   ],
   "source": [
    "def canFinish(numCourses, prerequisites):\n",
    "    graph = [[] for _ in range(numCourses)]\n",
    "    visit = [0 for _ in range(numCourses)]\n",
    "    for x, y in prerequisites:\n",
    "        graph[x].append(y)\n",
    "    def dfs(i):\n",
    "        if visit[i] == -1:\n",
    "            return False\n",
    "        if visit[i] == 1:\n",
    "            return True\n",
    "        visit[i] = -1\n",
    "        for j in graph[i]:\n",
    "            if not dfs(j):\n",
    "                return False\n",
    "        visit[i] = 1\n",
    "        return True\n",
    "    for i in range(numCourses):\n",
    "        if not dfs(i):\n",
    "            return False\n",
    "    return True\n",
    "\n",
    "print(canFinish(2,[[1,0]]))\n",
    "\n",
    "print(canFinish(2,[[1,0],[0,1]]))"
   ]
  },
  {
   "attachments": {
    "image.png": {
     "image/png": "[encoded data removed]"
    }
   },
   "cell_type": "markdown",
   "metadata": {},
   "source": [
    "# Connected Components in an undirected graph (Graph)\n",
    "\n",
    "Given an undirected graph, print all connected components line by line. For example consider the following graph.\n",
    "\n",
    "![image.png](attachment:image.png)"
   ]
  },
  {
   "cell_type": "code",
   "execution_count": 61,
   "metadata": {},
   "outputs": [
    {
     "data": {
      "text/plain": [
       "[[0, 1], [2, 3, 4]]"
      ]
     },
     "execution_count": 61,
     "metadata": {},
     "output_type": "execute_result"
    }
   ],
   "source": [
    "class Graph: \n",
    "      \n",
    "    # init function to declare class variables \n",
    "    def __init__(self,V): \n",
    "        self.V = V \n",
    "        self.adj = [[] for i in range(V)] \n",
    "        \n",
    "    # method to add an undirected edge \n",
    "    def addEdge(self, v, w): \n",
    "        self.adj[v].append(w) \n",
    "        self.adj[w].append(v) \n",
    "        \n",
    "    def dfs(self, temp, v, visited): \n",
    "  \n",
    "        # Mark the current vertex as visited \n",
    "        visited[v] = True\n",
    "  \n",
    "        # Store the vertex to list \n",
    "        temp.append(v) \n",
    "  \n",
    "        # Repeat for all vertices adjacent \n",
    "        # to this vertex v \n",
    "        for i in self.adj[v]: \n",
    "            if visited[i] == False: \n",
    "                  \n",
    "                # Update the list \n",
    "                temp = self.dfs(temp, i, visited) \n",
    "        return temp \n",
    "    \n",
    "    # Method to retrieve connected components \n",
    "    # in an undirected graph \n",
    "    def connectedComponents(self): \n",
    "        visited = [] \n",
    "        cc = [] \n",
    "        for i in range(self.V): \n",
    "            visited.append(False) \n",
    "        for v in range(self.V): \n",
    "            if visited[v] == False: \n",
    "                temp = [] \n",
    "                cc.append(self.dfs(temp, v, visited)) \n",
    "        return cc \n",
    "\n",
    "# Create a graph given in the above diagram \n",
    "# 5 vertices numbered from 0 to 4 \n",
    "g = Graph(5); \n",
    "g.addEdge(1, 0) \n",
    "g.addEdge(2, 3) \n",
    "g.addEdge(3, 4) \n",
    "g.connectedComponents()"
   ]
  },
  {
   "attachments": {
    "image.png": {
     "image/png": "[encoded data removed]"
    }
   },
   "cell_type": "markdown",
   "metadata": {},
   "source": [
    "# Check if a given graph is tree or not\n",
    "\n",
    "Write a function that returns true if a given undirected graph is tree and false otherwise. For example, the following graph is a tree.\n",
    "\n",
    "![image.png](attachment:image.png)"
   ]
  },
  {
   "attachments": {
    "image.png": {
     "image/png": "[encoded data removed]"
    }
   },
   "cell_type": "markdown",
   "metadata": {},
   "source": [
    "But the following graph is not a tree.\n",
    "\n",
    "![image.png](attachment:image.png)\n",
    "\n",
    "An undirected graph is tree if it has following properties.\n",
    "1) There is no cycle.\n",
    "2) The graph is connected.\n",
    "\n",
    "For an undirected graph we can either use BFS or DFS to detect above two properties."
   ]
  },
  {
   "cell_type": "code",
   "execution_count": 63,
   "metadata": {},
   "outputs": [
    {
     "name": "stdout",
     "output_type": "stream",
     "text": [
      "Graph is a Tree\n",
      "Graph is a not a Tree\n"
     ]
    }
   ],
   "source": [
    "# Python Program to check whether  \n",
    "# a graph is tree or not \n",
    "  \n",
    "from collections import defaultdict \n",
    "  \n",
    "class Graph(): \n",
    "  \n",
    "    def __init__(self, V): \n",
    "        self.V = V \n",
    "        self.graph  = defaultdict(list) \n",
    "  \n",
    "    def addEdge(self, v, w): \n",
    "        # Add w to v ist. \n",
    "        self.graph[v].append(w)  \n",
    "        # Add v to w list. \n",
    "        self.graph[w].append(v)  \n",
    "  \n",
    "    # A recursive function that uses visited[]  \n",
    "    # and parent to detect cycle in subgraph  \n",
    "    # reachable from vertex v. \n",
    "    def isCyclicUtil(self, v, visited, parent): \n",
    "  \n",
    "        # Mark current node as visited \n",
    "        visited[v] = True\n",
    "  \n",
    "        # Recur for all the vertices adjacent  \n",
    "        # for this vertex \n",
    "        for i in self.graph[v]: \n",
    "            # If an adjacent is not visited,  \n",
    "            # then recur for that adjacent \n",
    "            if visited[i] == False: \n",
    "                if self.isCyclicUtil(i, visited, v) == True: \n",
    "                    return True\n",
    "  \n",
    "            # If an adjacent is visited and not  \n",
    "            # parent of current vertex, then there  \n",
    "            # is a cycle. \n",
    "            elif i != parent: \n",
    "                return True\n",
    "  \n",
    "        return False\n",
    "  \n",
    "    # Returns true if the graph is a tree,  \n",
    "    # else false. \n",
    "    def isTree(self): \n",
    "        # Mark all the vertices as not visited  \n",
    "        # and not part of recursion stack \n",
    "        visited = [False] * self.V \n",
    "  \n",
    "        # The call to isCyclicUtil serves multiple  \n",
    "        # purposes. It returns true if graph reachable  \n",
    "        # from vertex 0 is cyclcic. It also marks  \n",
    "        # all vertices reachable from 0. \n",
    "        if self.isCyclicUtil(0, visited, -1) == True: \n",
    "            return False\n",
    "  \n",
    "        # If we find a vertex which is not reachable \n",
    "        # from 0 (not marked by isCyclicUtil(),  \n",
    "        # then we return false \n",
    "        for i in range(self.V): \n",
    "            if visited[i] == False: \n",
    "                return False\n",
    "  \n",
    "        return True\n",
    "  \n",
    "# Driver program to test above functions \n",
    "g1 = Graph(5) \n",
    "g1.addEdge(1, 0) \n",
    "g1.addEdge(0, 2) \n",
    "g1.addEdge(0, 3) \n",
    "g1.addEdge(3, 4) \n",
    "print(\"Graph is a Tree\" if g1.isTree() == True else \"Graph is a not a Tree\")\n",
    "  \n",
    "g2 = Graph(5) \n",
    "g2.addEdge(1, 0) \n",
    "g2.addEdge(0, 2) \n",
    "g2.addEdge(2, 1) \n",
    "g2.addEdge(0, 3) \n",
    "g2.addEdge(3, 4) \n",
    "print(\"Graph is a Tree\" if g2.isTree() == True else \"Graph is a not a Tree\")"
   ]
  },
  {
   "cell_type": "markdown",
   "metadata": {},
   "source": [
    "# Meeting Rooms (Interval)\n",
    " \n",
    "Given an array of meeting time intervals consisting of start and end times [s1, e1], [s2, e2], ... , determine if a person could attend all meetings.\n",
    "\n",
    "For example,\n",
    "Given [ [0, 30], [5, 10], [15, 20] ],\n",
    "return false."
   ]
  },
  {
   "cell_type": "code",
   "execution_count": 67,
   "metadata": {},
   "outputs": [
    {
     "data": {
      "text/plain": [
       "False"
      ]
     },
     "execution_count": 67,
     "metadata": {},
     "output_type": "execute_result"
    }
   ],
   "source": [
    "# Definition for an interval.\n",
    "class Interval(object):\n",
    "    def __init__(self, s=0, e=0):\n",
    "        self.start = s\n",
    "        self.end = e\n",
    "\n",
    "class Solution(object):\n",
    "    def canAttendMeetings(self, intervals):\n",
    "        \"\"\"\n",
    "        :type intervals: List[Interval]\n",
    "        :rtype: bool\n",
    "        \"\"\"\n",
    "        intervals.sort(key=lambda itv: (itv.start, itv.end))\n",
    "        for i in range(1, len(intervals)):\n",
    "            if intervals[i].start < intervals[i - 1].end:\n",
    "                return False\n",
    "\n",
    "        return True\n",
    "    \n",
    "ar = [ [0, 30], [5, 10], [15, 20] ]\n",
    "def listOfInterval(intervals):\n",
    "    out = []\n",
    "    for start,end in intervals:\n",
    "        out.append(Interval(start,end))\n",
    "    return out\n",
    "\n",
    "sol = Solution()\n",
    "sol.canAttendMeetings(listOfInterval(ar))"
   ]
  },
  {
   "cell_type": "markdown",
   "metadata": {},
   "source": [
    "# Reverse a linked list (Linked List)\n",
    "\n",
    "Given pointer to the head node of a linked list, the task is to reverse the linked list. We need to reverse the list by changing links between nodes.\n",
    "\n",
    "Examples:\n",
    "\n",
    "Input: Head of following linked list\n",
    "<br>1->2->3->4->NULL\n",
    "<br>Output: Linked list should be changed to,\n",
    "<br>4->3->2->1->NULL"
   ]
  },
  {
   "cell_type": "code",
   "execution_count": 70,
   "metadata": {},
   "outputs": [
    {
     "name": "stdout",
     "output_type": "stream",
     "text": [
      "Given Linked List\n",
      "85\n",
      "15\n",
      "4\n",
      "20\n",
      "Reversed Linked List\n",
      "20\n",
      "4\n",
      "15\n",
      "85\n"
     ]
    }
   ],
   "source": [
    "# Node class  \n",
    "class Node(object): \n",
    "\n",
    "    # Constructor to initialize the node object \n",
    "    def __init__(self, data): \n",
    "        self.data = data \n",
    "        self.next = None\n",
    "  \n",
    "class LinkedList(object): \n",
    "  \n",
    "    # Function to initialize head \n",
    "    def __init__(self): \n",
    "        self.head = None\n",
    "  \n",
    "    # Function to reverse the linked list \n",
    "    def reverse(self): \n",
    "        prev = None\n",
    "        current = self.head \n",
    "        while(current is not None): \n",
    "            next = current.next\n",
    "            current.next = prev \n",
    "            prev = current \n",
    "            current = next\n",
    "        self.head = prev \n",
    "          \n",
    "    # Function to insert a new node at the beginning \n",
    "    def push(self, new_data): \n",
    "        new_node = Node(new_data) \n",
    "        new_node.next = self.head \n",
    "        self.head = new_node \n",
    "  \n",
    "    # Utility function to print the linked LinkedList \n",
    "    def printList(self): \n",
    "        temp = self.head \n",
    "        while(temp): \n",
    "            print(temp.data )\n",
    "            temp = temp.next\n",
    "  \n",
    "  \n",
    "# Driver program to test above functions \n",
    "llist = LinkedList() \n",
    "llist.push(20) \n",
    "llist.push(4) \n",
    "llist.push(15) \n",
    "llist.push(85) \n",
    "  \n",
    "print(\"Given Linked List\")\n",
    "llist.printList() \n",
    "llist.reverse() \n",
    "print(\"Reversed Linked List\")\n",
    "llist.printList()"
   ]
  },
  {
   "cell_type": "markdown",
   "metadata": {},
   "source": [
    "# Length of the longest substring without repeating characters\n",
    "\n",
    "Given a string str, find the length of the longest substring without repeating characters.\n",
    "\n",
    "For “ABDEFGABEF”, the longest substring are “BDEFGA” and “DEFGAB”, with length 6.\n",
    "<br>For “BBBB” the longest substring is “B”, with length 1.\n",
    "<br>For “GEEKSFORGEEKS”, there are two longest substrings shown in the below diagrams, with length 7"
   ]
  },
  {
   "cell_type": "code",
   "execution_count": 80,
   "metadata": {},
   "outputs": [
    {
     "name": "stdout",
     "output_type": "stream",
     "text": [
      "6\n",
      "1\n",
      "7\n"
     ]
    }
   ],
   "source": [
    "def longestSubstring(string):\n",
    "    overall_max = 0\n",
    "    current_max = 0\n",
    "    word = \"\"\n",
    "    \n",
    "    for letter in string:\n",
    "        if letter in word:\n",
    "            current_max = 0\n",
    "            word = \"\"\n",
    "        if letter not in word:\n",
    "            current_max += 1\n",
    "            word += letter\n",
    "        if current_max > overall_max:\n",
    "            overall_max = current_max\n",
    "            \n",
    "    if current_max > overall_max:\n",
    "        overall_max = current_max\n",
    "        \n",
    "    return overall_max\n",
    "        \n",
    "print(longestSubstring(\"ABDEFGABEF\"))\n",
    "print(longestSubstring(\"BBBB\"))\n",
    "print(longestSubstring(\"GEEKSFORGEEKS\"))"
   ]
  },
  {
   "cell_type": "markdown",
   "metadata": {},
   "source": [
    "# Merge k Sorted Lists\n",
    "\n",
    "Merge k sorted linked lists and return it as one sorted list. Analyze and describe its complexity.\n",
    "\n",
    "Example:\n",
    "\n",
    "Input:\n",
    "[\n",
    "<br>  1->4->5,\n",
    "<br>  1->3->4,\n",
    "<br>  2->6\n",
    "<br>]\n",
    "<br>Output: 1->1->2->3->4->4->5->6"
   ]
  },
  {
   "cell_type": "code",
   "execution_count": null,
   "metadata": {},
   "outputs": [],
   "source": [
    "def mergeSortedLists(ar):\n",
    "    for \n",
    "    \n",
    "ar = [[1,4,5],[1,3,5],[2,6]]"
   ]
  },
  {
   "cell_type": "markdown",
   "metadata": {},
   "source": [
    "# House Robber (Dynamic Programming)\n",
    "\n",
    "Find maximum possible stolen value from houses\n",
    "\n",
    "\n",
    "There are n houses build in a line, each of which contains some value in it. A thief is going to steal the maximal value of these houses, but he can’t steal in two adjacent houses because owner of the stolen houses will tell his two neighbour left and right side. What is the maximum stolen value.\n",
    "\n",
    "Examples:\n",
    "\n",
    "Input  : hval[] = {6, 7, 1, 3, 8, 2, 4}\n",
    "<br>Output : 19\n",
    "<br>Thief will steal 6, 1, 8 and 4 from house.\n",
    "\n",
    "<br>Input  : hval[] = {5, 3, 4, 11, 2}\n",
    "<br>Output : 16\n",
    "<br>Thief will steal 5 and 11"
   ]
  },
  {
   "cell_type": "code",
   "execution_count": 81,
   "metadata": {},
   "outputs": [
    {
     "name": "stdout",
     "output_type": "stream",
     "text": [
      "Maximum loot value : 19\n"
     ]
    }
   ],
   "source": [
    "# not using cache\n",
    "def maximize_loot(hval, n): \n",
    "    if n == 0: \n",
    "        return 0\n",
    "    if n == 1: \n",
    "        return hval[0] \n",
    "    if n == 2: \n",
    "        return max(hval[0], hval[1]) \n",
    "  \n",
    "    # dp[i] represent the maximum value stolen so \n",
    "    # for after reaching house i. \n",
    "    dp = [0]*n \n",
    "  \n",
    "    # Initialize the dp[0] and dp[1] \n",
    "    dp[0] = hval[0] \n",
    "    dp[1] = max(hval[0], hval[1]) \n",
    "      \n",
    "    # Fill remaining positions \n",
    "    for i in range(2, n): \n",
    "        dp[i] = max(hval[i]+dp[i-2], dp[i-1]) \n",
    "  \n",
    "    return dp[-1] \n",
    "\n",
    "# using cache\n",
    "def maximize_loot(hval, n): \n",
    "    if n == 0: \n",
    "        return 0\n",
    "  \n",
    "    value1 = hval[0] \n",
    "    if n == 1: \n",
    "        return value1 \n",
    "  \n",
    "    value2 = max(hval[0], hval[1]) \n",
    "    if n == 2: \n",
    "        return value2 \n",
    "  \n",
    "    # contains maximum stolen value at the end \n",
    "    max_val = None\n",
    "  \n",
    "    # Fill remaining positions \n",
    "    for i in range(2, n): \n",
    "        max_val = max(hval[i]+value1, value2) \n",
    "        value1 = value2 \n",
    "        value2 = max_val \n",
    "  \n",
    "    return max_val \n",
    "\n",
    "# Value of houses \n",
    "hval = [6, 7, 1, 3, 8, 2, 4] \n",
    "\n",
    "# number of houses \n",
    "n = len(hval) \n",
    "print(\"Maximum loot value : {}\".format(maximize_loot(hval, n))) "
   ]
  },
  {
   "cell_type": "markdown",
   "metadata": {},
   "source": [
    "dp[i] = max (hval[i] + dp[i-2], dp[i-1])\n",
    "\n",
    "hval[i] + dp[i-2] is the case when thief\n",
    "decided to rob house i. In that situation \n",
    "maximum value will be the current value of\n",
    "house + maximum value stolen till last \n",
    "robbery at house not adjacent to house \n",
    "i which will be house i-2.  \n",
    " \n",
    "dp[i-1] is the case when thief decided not \n",
    "to rob house i. So he will check adjacent \n",
    "house for maximum value stolen till now. "
   ]
  },
  {
   "cell_type": "markdown",
   "metadata": {},
   "source": [
    "# Jump Game\n",
    "\n",
    "Given an array of non-negative integers, you are initially positioned at the first index of the array.\n",
    "\n",
    "Each element in the array represents your maximum jump length at that position.\n",
    "\n",
    "Determine if you are able to reach the last index.\n",
    "\n",
    "Example 1:\n",
    "\n",
    "Input: [2,3,1,1,4]\n",
    "<br>Output: true\n",
    "<br>Explanation: Jump 1 step from index 0 to 1, then 3 steps to the last index.\n",
    "<br>Example 2:\n",
    "\n",
    "Input: [3,2,1,0,4]"
   ]
  },
  {
   "cell_type": "code",
   "execution_count": 86,
   "metadata": {},
   "outputs": [
    {
     "name": "stdout",
     "output_type": "stream",
     "text": [
      "True\n",
      "False\n"
     ]
    }
   ],
   "source": [
    "def canJump(A):\n",
    "    reachable = 0\n",
    "    for i, length in enumerate(A):\n",
    "        if i > reachable:\n",
    "            break\n",
    "        reachable = max(reachable, i + length)\n",
    "    return reachable >= len(A) - 1\n",
    "    \n",
    "print(canJump([2,3,1,1,4]))\n",
    "print(canJump([3,2,1,0,4]))"
   ]
  },
  {
   "cell_type": "markdown",
   "metadata": {},
   "source": [
    "# Knight Dial\n",
    "\n",
    "Imagine you place a knight chess piece on a phone dial pad. This chess piece moves in an uppercase “L” shape: two steps horizontally followed by one vertically, or one step horizontally then two vertically:\n",
    "\n",
    "Pay no attention to the poorly-redacted star and pound keys\n",
    "Suppose you dial keys on the keypad using only hops a knight can make. Every time the knight lands on a key, we dial that key and make another hop. The starting position counts as being dialed.\n",
    "How many distinct numbers can you dial in N hops from a particular starting position?"
   ]
  },
  {
   "cell_type": "code",
   "execution_count": 89,
   "metadata": {},
   "outputs": [
    {
     "name": "stdout",
     "output_type": "stream",
     "text": [
      "6\n",
      "6\n",
      "6\n"
     ]
    }
   ],
   "source": [
    "NEIGHBORS_MAP = {\n",
    "    1: (6, 8),\n",
    "    2: (7, 9),\n",
    "    3: (4, 8),\n",
    "    4: (3, 9, 0),\n",
    "    5: tuple(),  # 5 has no neighbors\n",
    "    6: (1, 7, 0),\n",
    "    7: (2, 6),\n",
    "    8: (1, 3),\n",
    "    9: (2, 4),\n",
    "    0: (4, 6),\n",
    "}\n",
    "\n",
    "def neighbors(position):\n",
    "    return NEIGHBORS_MAP[position]\n",
    "\n",
    "def count_sequences(start_position, num_hops):                  \n",
    "    if num_hops == 0:                                           \n",
    "        return 1                                                \n",
    "                                                                \n",
    "    num_sequences = 0                                           \n",
    "    for position in neighbors(start_position):                  \n",
    "        num_sequences += count_sequences(position, num_hops - 1)\n",
    "    return num_sequences                                        \n",
    "                                                                \n",
    "print(count_sequences(6, 2))\n",
    "\n",
    "def count_sequences(start_position, num_hops):\n",
    "    cache = {}\n",
    "\n",
    "    def helper(position, num_hops):\n",
    "        if (position, num_hops) in cache:\n",
    "            return cache[ (position, num_hops) ]\n",
    "\n",
    "        if num_hops == 0:\n",
    "            return 1\n",
    "\n",
    "        else:\n",
    "            num_sequences = 0\n",
    "            for neighbor in neighbors(position):\n",
    "                num_sequences += helper(neighbor, num_hops - 1)\n",
    "            cache[ (position, num_hops) ] = num_sequences\n",
    "            return num_sequences\n",
    "\n",
    "    res = helper(start_position, num_hops)\n",
    "    return res\n",
    "\n",
    "print(count_sequences(6, 2))\n",
    "\n",
    "\n",
    "def count_sequences(start_position, num_hops):                \n",
    "    prior_case = [1] * 10                                     \n",
    "    current_case = [0] * 10                                   \n",
    "    current_num_hops = 1                                      \n",
    "                                                              \n",
    "    while current_num_hops <= num_hops:                       \n",
    "        current_case = [0] * 10                               \n",
    "        current_num_hops += 1                                 \n",
    "                                                              \n",
    "        for position in range(0, 10):                         \n",
    "            for neighbor in neighbors(position):              \n",
    "                current_case[position] += prior_case[neighbor]\n",
    "        prior_case = current_case                             \n",
    "                                                              \n",
    "    return current_case[start_position]  \n",
    "\n",
    "print(count_sequences(6, 2))"
   ]
  },
  {
   "cell_type": "markdown",
   "metadata": {},
   "source": [
    "# Find minimum number of coins that make a given value\n",
    "Given a value V, if we want to make change for V cents, and we have infinite supply of each of C = { C1, C2, .. , Cm} valued coins, what is the minimum number of coins to make the change?\n",
    "\n",
    "Examples:\n",
    "\n",
    "Input: coins[] = {25, 10, 5}, V = 30\n",
    "<br>Output: Minimum 2 coins required\n",
    "<br>We can use one coin of 25 cents and one of 5 cents \n",
    "\n",
    "Input: coins[] = {9, 6, 5, 1}, V = 11\n",
    "<br>Output: Minimum 2 coins required\n",
    "<br>We can use one coin of 6 cents and 1 coin of 5 cents"
   ]
  },
  {
   "cell_type": "code",
   "execution_count": 5,
   "metadata": {},
   "outputs": [
    {
     "data": {
      "text/plain": [
       "3"
      ]
     },
     "execution_count": 5,
     "metadata": {},
     "output_type": "execute_result"
    }
   ],
   "source": [
    "def dpMakeChange(coinValueList,change):\n",
    "    minCoins = [0]*(amnt+1)\n",
    "    coinsUsed = [0]*(amnt+1)\n",
    "    for cents in range(change+1):\n",
    "        coinCount = cents\n",
    "        newCoin = 1\n",
    "        for j in [c for c in coinValueList if c <= cents]:\n",
    "            if minCoins[cents-j] + 1 < coinCount:\n",
    "                coinCount = minCoins[cents-j]+1\n",
    "                newCoin = j\n",
    "        minCoins[cents] = coinCount\n",
    "        coinsUsed[cents] = newCoin\n",
    "    return minCoins[change]\n",
    "\n",
    "amnt = 63\n",
    "clist = [1,5,10,21,25]\n",
    "\n",
    "dpMakeChange(clist,amnt)"
   ]
  },
  {
   "cell_type": "code",
   "execution_count": null,
   "metadata": {},
   "outputs": [],
   "source": []
  }
 ],
 "metadata": {
  "kernelspec": {
   "display_name": "Python 3",
   "language": "python",
   "name": "python3"
  },
  "language_info": {
   "codemirror_mode": {
    "name": "ipython",
    "version": 3
   },
   "file_extension": ".py",
   "mimetype": "text/x-python",
   "name": "python",
   "nbconvert_exporter": "python",
   "pygments_lexer": "ipython3",
   "version": "3.7.4"
  }
 },
 "nbformat": 4,
 "nbformat_minor": 2
}
