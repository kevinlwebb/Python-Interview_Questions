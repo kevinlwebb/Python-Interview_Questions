{
 "cells": [
  {
   "cell_type": "markdown",
   "metadata": {},
   "source": [
    "# 2 Sum (Array)\n",
    "\n",
    "Given a sum and an array, find two pairs that add up to the given sum.\n",
    "\n",
    "For example, if the array is [3, 5, 2, -4, 8, 11] and the sum is 7, your program should return [[11, -4], [2, 5]] because 11 + -4 = 7 and 2 + 5 = 7."
   ]
  },
  {
   "cell_type": "code",
   "execution_count": 1,
   "metadata": {},
   "outputs": [
    {
     "data": {
      "text/plain": [
       "[{2, 5}, {-4, 11}]"
      ]
     },
     "execution_count": 1,
     "metadata": {},
     "output_type": "execute_result"
    }
   ],
   "source": [
    "def naiveSolution(ar,sm):\n",
    "    out = []\n",
    "    for number1 in ar:\n",
    "        temp = [x for x in ar if x!=number1]\n",
    "        for number2 in temp:\n",
    "            if number1 + number2 == sm:\n",
    "                if {number1,number2} not in out:\n",
    "                    out.append({number1,number2})\n",
    "                    \n",
    "    return out\n",
    "\n",
    "naiveSolution([3, 5, 2, -4, 8, 11] ,7)"
   ]
  },
  {
   "cell_type": "code",
   "execution_count": 2,
   "metadata": {},
   "outputs": [
    {
     "data": {
      "text/plain": [
       "[{2, 5}, {-4, 11}]"
      ]
     },
     "execution_count": 2,
     "metadata": {},
     "output_type": "execute_result"
    }
   ],
   "source": [
    "def dpSolution(ar,sm):\n",
    "    tried = {}\n",
    "    out = []\n",
    "    for number in ar:\n",
    "        if sm - number not in tried:\n",
    "            tried[number] = number\n",
    "        else:\n",
    "            number2 = sm - number\n",
    "            if {number,number2} not in out:\n",
    "                    out.append({number,number2})\n",
    "    return out\n",
    "            \n",
    "dpSolution([3, 5, 2, -4, 8, 11] ,7)"
   ]
  },
  {
   "cell_type": "markdown",
   "metadata": {},
   "source": [
    "# Longest Increasing Subarray\n",
    "\n",
    "Topics: “sliding window”, dynamic programming, time/space complexity\n",
    "    \n",
    "Given an array containing n numbers. The problem is to find the length of the longest contiguous subarray such that every element in the subarray is strictly greater than its previous element in the same subarray.\n",
    "\n",
    "Examples:\n",
    "\n",
    "Input : arr[] = {5, 6, 3, 5, 7, 8, 9, 1, 2}\n",
    "Output : 5\n",
    "The subarray is {3, 5, 7, 8, 9}\n",
    "\n",
    "Input : arr[] = {12, 13, 1, 5, 4, 7, 8, 10, 10, 11}\n",
    "Output : 4\n",
    "The subarray is {4, 7, 8, 10}"
   ]
  },
  {
   "cell_type": "code",
   "execution_count": 66,
   "metadata": {},
   "outputs": [
    {
     "name": "stdout",
     "output_type": "stream",
     "text": [
      "Length =  5\n"
     ]
    }
   ],
   "source": [
    "def dpSolution(ar):  \n",
    "    n = len(ar)\n",
    "    \n",
    "    overall_max = 1 \n",
    "    current_max = 1 \n",
    "       \n",
    "    for i in range(1, n) : \n",
    "\n",
    "        if (arr[i] > arr[i-1]) : \n",
    "            current_max =current_max + 1 \n",
    "        else : \n",
    "            if (overall_max < current_max): \n",
    "                overall_max = current_max  \n",
    "  \n",
    "            current_max = 1   \n",
    "          \n",
    "    if (overall_max < current_max) : \n",
    "        overall_max = current_max \n",
    "       \n",
    "    return overall_max \n",
    "\n",
    "  \n",
    "arr = [5, 6, 3, 5, 7, 8, 9, 1, 2] \n",
    "n = len(arr) \n",
    "print(\"Length = \", dpSolution(arr)) "
   ]
  },
  {
   "cell_type": "markdown",
   "metadata": {},
   "source": [
    "# Climbing Stairs (Dynamic Programming)\n",
    "\n",
    "You are climbing a stair case. It takes n steps to reach to the top.\n",
    "\n",
    "Each time you can either climb 1 or 2 steps. In how many distinct ways can you climb to the top?"
   ]
  },
  {
   "cell_type": "code",
   "execution_count": 3,
   "metadata": {},
   "outputs": [],
   "source": [
    "def climbingStairs(n):\n",
    "    if n == 0:\n",
    "        return 1\n",
    "    elif n < 0:\n",
    "        return 0\n",
    "    return climbingStairs(n-1) + climbingStairs(n-2)"
   ]
  },
  {
   "cell_type": "code",
   "execution_count": 6,
   "metadata": {},
   "outputs": [
    {
     "data": {
      "text/plain": [
       "2"
      ]
     },
     "execution_count": 6,
     "metadata": {},
     "output_type": "execute_result"
    }
   ],
   "source": [
    "climbingStairs(2)"
   ]
  },
  {
   "cell_type": "code",
   "execution_count": null,
   "metadata": {},
   "outputs": [],
   "source": [
    "def climbingStairs(n):\n",
    "    \n",
    "    if n == 0:\n",
    "        return 1\n",
    "    elif n < 0:\n",
    "        return 0\n",
    "    return climbingStairs(n-1) + climbingStairs(n-2)"
   ]
  }
 ],
 "metadata": {
  "kernelspec": {
   "display_name": "Python 3",
   "language": "python",
   "name": "python3"
  },
  "language_info": {
   "codemirror_mode": {
    "name": "ipython",
    "version": 3
   },
   "file_extension": ".py",
   "mimetype": "text/x-python",
   "name": "python",
   "nbconvert_exporter": "python",
   "pygments_lexer": "ipython3",
   "version": "3.7.4"
  }
 },
 "nbformat": 4,
 "nbformat_minor": 2
}
